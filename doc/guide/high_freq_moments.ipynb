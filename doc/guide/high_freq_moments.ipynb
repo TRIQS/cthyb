{
 "cells": [
  {
   "cell_type": "markdown",
   "id": "f583c3b9",
   "metadata": {},
   "source": [
    "# High Frequency Moments of the Green's Functions and Self-energy\n",
    "\n",
    "\n",
    "We present the derivation of the high-frequency moments of the Green's function and self-energy, as well as show case their use in TRIQS/cthyb.\n",
    "\n",
    "## Derivation\n",
    "The following derivation follows closely [Rev. Mod. Phys 83, 349 (2011)](https://journals.aps.org/rmp/abstract/10.1103/RevModPhys.83.349) and [Phys. Rev. B 84, 073104 (2011)](https://journals.aps.org/prb/abstract/10.1103/PhysRevB.84.073104).\n",
    "\n",
    "The high-frequency expansion of the Green's function takes the following form \n",
    "\n",
    "$$ \\mathbf{G}(i\\omega_{n}) = \\frac{1}{i\\omega_{n}}\\mathbf{G}_{0} + \\frac{1}{(i\\omega_{n})^{2}}\\mathbf{G}_{1} + \\frac{1}{(i\\omega_{n})^{3}}\\mathbf{G}_{2} + \\cdots, $$\n",
    "where the coefficients are related to time derivatives of the Green's function:\n",
    "\n",
    "$$ \\mathbf{G}_{0} = -(G(0) + G(\\beta)) = \\delta_{ab}$$\n",
    "$$ \\mathbf{G}_{1} = \\partial_{\\tau}G(0) + \\partial_{\\tau}G(\\beta) = -\\langle \\{[H, d_{a}], d_{b}^{\\dagger} \\} \\rangle $$\n",
    "$$ \\mathbf{G}_{2} = -\\big (\\partial^{2}_{\\tau}G(0) + \\partial^{2}_{\\tau}G(\\beta) \\big ) = \\langle \\{[H, d_{a}], [d_{b}^{\\dagger},H] \\} \\rangle, $$\n",
    "where $H$ is the general Anderson impurity hamiltonian,\n",
    "\n",
    "$$H = \\sum_{k,\\alpha} \\varepsilon_{k\\alpha}c^{\\dagger}_{k\\alpha}c_{k\\alpha} + \\sum_{k\\alpha b} \\big ( V_{k}^{\\alpha b} c^{\\dagger}_{k\\alpha}d_{b} + \\mathrm{h.c.}\\big ) + \\sum_{ab}E_{ab}d^{\\dagger}_{a}d_{b} + \\frac{1}{2}\\sum_{abcd}U_{abcd}d^{\\dagger}_{a}d^{\\dagger}_{b}d_{d}d_{c}.$$\n",
    "\n",
    "The coefficients for the Weiss field can be obtained from the same expressions as the Green's function with the hamiltonian replaced with the just the non-interacting part. To derive the analogous coefficients for the self-energy, we start with the Dyson equation,\n",
    "\n",
    "$$\\mathbf{\\Sigma} = \\Big ((\\mathbf{G}_{0} )^{-1} - \\mathbf{G}^{-1} \\Big ).$$\n",
    "\n",
    "Using the high-frequency expression for the Green's function and Weiss field,\n",
    "\n",
    "$$ \\mathbf{\\Sigma} = \\frac{1}{\\frac{1}{i\\omega_{n}} + \\frac{1}{(i\\omega_{n})^{2}}(\\mathbf{G}_{0})_{1} + \\frac{1}{(i\\omega_{n})^{3}} (\\mathbf{G}_{0})_{2}}-\\frac{1}{\\frac{1}{i\\omega_{n}} + \\frac{1}{(i\\omega_{n})^{2}}\\mathbf{G}_{1} + \\frac{1}{(i\\omega_{n})^{3}} \\mathbf{G}_{2}}$$\n",
    "\n",
    "Expanding this expression for large $i\\omega_{n}$ and simplifying,\n",
    "\n",
    "$$\\mathbf{\\Sigma} = \\Big (\\mathbf{G}_{1} - (\\mathbf{G}_{0})_{1} \\Big ) + \\frac{1}{i\\omega_{n}} \\Big (\\mathbf{G}_{2} - (\\mathbf{G}_{0})_{2} +((\\mathbf{G}_{0})_{1})^{2} - \\mathbf{G}_{1}^{2} \\Big) + \\mathcal{O}\\Big ( (i\\omega_{n})^{-2}\\Big )$$\n",
    "\n",
    "We now identify the leading terms,\n",
    "\n",
    "$$ \\mathbf{\\Sigma}_{\\infty} \\equiv \\mathbf{G}_{1} - (\\mathbf{G}_{0})_{1} $$\n",
    "$$ \\mathbf{\\Sigma}_{1} \\equiv \\mathbf{G}_{2} - (\\mathbf{G}_{0})_{2} +((\\mathbf{G}_{0})_{1})^{2} - \\mathbf{G}_{1}^{2} $$\n",
    "\n",
    "We can simplify these expressions by plugging in their definitions from above,\n",
    "\n",
    "$$\\Sigma_{\\infty}^{ab} = -\\langle \\{[H, d_{a}], d_{b}^{\\dagger} \\} \\rangle + \\langle \\{[H-H_{\\mathrm{int}}, d_{a}], d_{b}^{\\dagger} \\} \\rangle  = - \\langle \\{[H_{\\mathrm{int}}, d_{a}], d_{b}^{\\dagger} \\} \\rangle $$\n",
    "\n",
    "$$\\Sigma_{1}^{ab} = \\langle \\{ [H_{\\mathrm{int}}, [H_{\\mathrm{int}}, d_{a} ]], d_{b}^\\dagger \\} \\rangle - (\\Sigma_{\\infty}^{ab} )^{2} $$\n"
   ]
  },
  {
   "cell_type": "markdown",
   "id": "74d0c030",
   "metadata": {},
   "source": [
    "## Implentation in TRIQS/cthyb\n",
    "\n",
    "The moments are automatically calculated and stored as members of the TRIQS/cthyb solver when ``measure_density_matrix = True``. The moments for the Green's function and self-energy are stored as ``Solver.G_moments`` and ``Solver.Sigma_moments``, with the matching block structure of the ``Gf`` objects. The moments of the Green's function are used in the Fourier transform of $G(\\tau)$ to $G(i\\omega_{n})$. The moments of the self-energy are used in the tail fitting routine, where the first two ``known_moments`` now correspond to the calculated first and second moments of the self-energy."
   ]
  },
  {
   "cell_type": "code",
   "execution_count": 1,
   "id": "0d5e94f5",
   "metadata": {},
   "outputs": [
    {
     "name": "stdout",
     "output_type": "stream",
     "text": [
      "Warning: could not identify MPI environment!\n"
     ]
    },
    {
     "name": "stderr",
     "output_type": "stream",
     "text": [
      "Starting serial run at: 2022-12-27 12:43:23.819200\n"
     ]
    }
   ],
   "source": [
    "from triqs.gf import *\n",
    "from triqs.operators import *\n",
    "from triqs_cthyb import Solver\n",
    "import triqs.utility.mpi as mpi\n",
    "\n",
    "import numpy as np\n",
    "import matplotlib.pyplot as plt"
   ]
  },
  {
   "cell_type": "code",
   "execution_count": 2,
   "id": "faa8b046",
   "metadata": {},
   "outputs": [
    {
     "name": "stdout",
     "output_type": "stream",
     "text": [
      "\n",
      "╔╦╗╦═╗╦╔═╗ ╔═╗  ┌─┐┌┬┐┬ ┬┬ ┬┌┐ \n",
      " ║ ╠╦╝║║═╬╗╚═╗  │   │ ├─┤└┬┘├┴┐\n",
      " ╩ ╩╚═╩╚═╝╚╚═╝  └─┘ ┴ ┴ ┴ ┴ └─┘\n",
      "\n",
      "The local Hamiltonian of the problem:\n",
      "-2*c_dag('down',0)*c('down',0) + -2*c_dag('up',0)*c('up',0) + 4*c_dag('down',0)*c_dag('up',0)*c('up',0)*c('down',0)\n",
      "Using autopartition algorithm to partition the local Hilbert space\n",
      "Found 4 subspaces.\n",
      "\n",
      "Warming up ...\n",
      "12:43:24   0% ETA 00:00:14 cycle 674 of 100000\n",
      "12:43:26  12% ETA 00:00:14 cycle 12669 of 100000\n",
      "12:43:29  29% ETA 00:00:11 cycle 29488 of 100000\n",
      "12:43:32  51% ETA 00:00:07 cycle 51998 of 100000\n",
      "12:43:36  79% ETA 00:00:02 cycle 79931 of 100000\n",
      "\n",
      "\n",
      "\n",
      "Accumulating ...\n",
      "12:43:39   0% ETA 00:01:10 cycle 706 of 500000\n",
      "12:43:41   2% ETA 00:01:09 cycle 14851 of 500000\n",
      "12:43:43   6% ETA 00:01:06 cycle 32596 of 500000\n",
      "12:43:46  10% ETA 00:01:03 cycle 54745 of 500000\n",
      "12:43:50  16% ETA 00:00:59 cycle 82271 of 500000\n",
      "12:43:55  23% ETA 00:00:54 cycle 116776 of 500000\n",
      "12:44:02  31% ETA 00:00:48 cycle 159808 of 500000\n",
      "12:44:09  42% ETA 00:00:41 cycle 212966 of 500000\n",
      "12:44:19  54% ETA 00:00:33 cycle 273147 of 500000\n",
      "12:44:31  71% ETA 00:00:21 cycle 355958 of 500000\n",
      "12:44:46  91% ETA 00:00:06 cycle 455434 of 500000\n",
      "\n",
      "\n",
      "[Rank 0] Collect results: Waiting for all mpi-threads to finish accumulating...\n",
      "[Rank 0] Timings for all measures:\n",
      "Measure                                    | seconds   \n",
      "Auto-correlation time                      | 0.155701  \n",
      "Average order                              | 0.0381325 \n",
      "Average sign                               | 0.0402628 \n",
      "Density Matrix for local static observable | 0.735761  \n",
      "G_tau measure                              | 0.0937238 \n",
      "Total measure time                         | 1.06358   \n",
      "[Rank 0] Acceptance rate for all moves:\n",
      "Move set Insert two operators: 0.0448675\n",
      "  Move  Insert Delta_up: 0.044915\n",
      "  Move  Insert Delta_down: 0.0448199\n",
      "Move set Remove two operators: 0.0448576\n",
      "  Move  Remove Delta_up: 0.04491\n",
      "  Move  Remove Delta_down: 0.0448052\n",
      "Move set Insert four operators: 0.00347959\n",
      "  Move  Insert Delta_up_up: 0.00269973\n",
      "  Move  Insert Delta_up_down: 0.00431061\n",
      "  Move  Insert Delta_down_up: 0.00423298\n",
      "  Move  Insert Delta_down_down: 0.002676\n",
      "Move set Remove four operators: 0.00348254\n",
      "  Move  Remove Delta_up_up: 0.00270066\n",
      "  Move  Remove Delta_up_down: 0.00431291\n",
      "  Move  Remove Delta_down_up: 0.00424282\n",
      "  Move  Remove Delta_down_down: 0.0026742\n",
      "Move  Shift one operator: 0.0350781\n",
      "[Rank 0] Warmup lasted: 14.6226 seconds [00:00:14]\n",
      "[Rank 0] Simulation lasted: 75.1911 seconds [00:01:15]\n",
      "[Rank 0] Number of measures: 500000\n",
      "Total number of measures: 500000\n",
      "Average sign: 1\n",
      "Average order: 1.2027\n",
      "Auto-correlation time: 0.358059\n"
     ]
    }
   ],
   "source": [
    "D, V, U = 1.0, 0.2, 4.0\n",
    "\n",
    "ef, beta = -U/2.0, 50\n",
    "H = U*n('up',0)*n('down',0)\n",
    "S = Solver(beta=beta, gf_struct=[('up',1), ('down', 1)])\n",
    "\n",
    "for name, g0 in S.G0_iw: g0 << inverse(iOmega_n - ef - V**2 * Wilson(D))\n",
    "\n",
    "S.solve(h_int = H,\n",
    "                n_cycles =500000,\n",
    "                length_cycle = 200,\n",
    "                n_warmup_cycles = 100000,\n",
    "                measure_density_matrix=True, # moments will be calculated automatically\n",
    "                use_norm_as_weight = True,\n",
    "                )"
   ]
  },
  {
   "cell_type": "markdown",
   "id": "d6a0f954",
   "metadata": {},
   "source": [
    "Here, we can compare the high-frequency expansion of the self-energy to the real and imaginary parts of the self-energy obtained from the Dyson equation using the sampled Green's function and input Weiss field. The real part corresponds to the overall Hartree shift and the imaginary part captures the correct high-frequency tail behavior."
   ]
  },
  {
   "cell_type": "code",
   "execution_count": 3,
   "id": "c456b728",
   "metadata": {},
   "outputs": [
    {
     "data": {
      "image/png": "[encoded data removed]",
      "text/plain": [
       "<Figure size 640x480 with 2 Axes>"
      ]
     },
     "metadata": {},
     "output_type": "display_data"
    }
   ],
   "source": [
    "iwn = np.array([complex(x) for x in S.Sigma_iw.mesh])\n",
    "fig, ax = plt.subplots(2,1, sharex=True)\n",
    "high_freq = S.Sigma_moments['up'][0][0,0] + S.Sigma_moments['up'][1][0,0]/iwn\n",
    "ax[0].plot(iwn.imag, S.Sigma_iw['up'].data[:,0,0].real, 'o', ms=3, label='CTHYB')\n",
    "ax[0].plot(iwn.imag, high_freq.real, '-', label=r'$\\Sigma_{\\infty} + \\Sigma_{1}/i\\omega_{n}$')\n",
    "ax[1].plot(iwn.imag, S.Sigma_iw['up'].data[:,0,0].imag, 'o', ms=3, label='CTHYB')\n",
    "ax[1].plot(iwn.imag, high_freq.imag, '-', label=r'$\\Sigma_{\\infty} + \\Sigma_{1}/i\\omega_{n}$')\n",
    "ax[0].legend(); ax[1].legend()\n",
    "ax[1].set_xlabel(r'$i\\omega_{n}$'); \n",
    "ax[0].set_ylabel(r'Re$\\Sigma(i\\omega_{n})$')\n",
    "ax[1].set_ylabel(r'Im$\\Sigma(i\\omega_{n})$')\n",
    "ax[0].set_xlim(0, 20);\n",
    "ax[0].set_ylim(1,3); ax[1].set_ylim(-10, 5)\n",
    "plt.subplots_adjust(wspace=0.5)\n",
    "plt.show()"
   ]
  },
  {
   "cell_type": "markdown",
   "id": "2d925b8f",
   "metadata": {},
   "source": [
    "Additionally, we can verify the relationship between the first moment of the Green's function and first moment of the self-energy,\n",
    "$$ \\mathbf{\\Sigma}_{\\infty} = \\mathbf{G}_{1} - (\\mathbf{G}_{0})_{1}$$\n",
    "$$ \\mathbf{\\Sigma}_{\\infty} = \\mathbf{G}_{1} - \\mathbf{E}, $$\n",
    "where $\\mathbf{E}$ are the local impurity levels."
   ]
  },
  {
   "cell_type": "code",
   "execution_count": 4,
   "id": "de27ad45",
   "metadata": {},
   "outputs": [
    {
     "data": {
      "text/plain": [
       "array([[-2.30926389e-14+0.j]])"
      ]
     },
     "execution_count": 4,
     "metadata": {},
     "output_type": "execute_result"
    }
   ],
   "source": [
    "E = {key[-1][1][0] : coef for key, coef in S.h_loc0}\n",
    "(S.Sigma_moments['up'][0] - S.G_moments['up'][-1] + E['up'])"
   ]
  }
 ],
 "metadata": {
  "kernelspec": {
   "display_name": "Python 3 (ipykernel)",
   "language": "python",
   "name": "python3"
  },
  "language_info": {
   "codemirror_mode": {
    "name": "ipython",
    "version": 3
   },
   "file_extension": ".py",
   "mimetype": "text/x-python",
   "name": "python",
   "nbconvert_exporter": "python",
   "pygments_lexer": "ipython3",
   "version": "3.10.7"
  }
 },
 "nbformat": 4,
 "nbformat_minor": 5
}
